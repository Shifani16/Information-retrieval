{
 "cells": [
  {
   "cell_type": "code",
   "execution_count": 153,
   "metadata": {},
   "outputs": [],
   "source": [
    "import pandas as pd\n",
    "import nltk\n",
    "from sklearn.feature_extraction.text import CountVectorizer, TfidfVectorizer\n",
    "from sklearn.neighbors import KDTree\n",
    "import joblib\n",
    "import re\n",
    "import numpy as np"
   ]
  },
  {
   "cell_type": "code",
   "execution_count": 154,
   "metadata": {},
   "outputs": [],
   "source": [
    "person = pd.read_csv(\"Dataset_Freepass1.csv\", delimiter=';')"
   ]
  },
  {
   "cell_type": "code",
   "execution_count": 155,
   "metadata": {},
   "outputs": [
    {
     "data": {
      "text/html": [
       "<div>\n",
       "<style scoped>\n",
       "    .dataframe tbody tr th:only-of-type {\n",
       "        vertical-align: middle;\n",
       "    }\n",
       "\n",
       "    .dataframe tbody tr th {\n",
       "        vertical-align: top;\n",
       "    }\n",
       "\n",
       "    .dataframe thead th {\n",
       "        text-align: right;\n",
       "    }\n",
       "</style>\n",
       "<table border=\"1\" class=\"dataframe\">\n",
       "  <thead>\n",
       "    <tr style=\"text-align: right;\">\n",
       "      <th></th>\n",
       "      <th>judul</th>\n",
       "      <th>link</th>\n",
       "      <th>abstract</th>\n",
       "    </tr>\n",
       "  </thead>\n",
       "  <tbody>\n",
       "    <tr>\n",
       "      <th>0</th>\n",
       "      <td>Interactive Mixed Reality System Menggunakan P...</td>\n",
       "      <td>https://j-ptiik.ub.ac.id/index.php/j-ptiik/art...</td>\n",
       "      <td>Teknologi mixed reality akan membuat interaksi...</td>\n",
       "    </tr>\n",
       "    <tr>\n",
       "      <th>1</th>\n",
       "      <td>Optimasi Penjadwalan Mata Pelajaran Menggunaka...</td>\n",
       "      <td>https://j-ptiik.ub.ac.id/index.php/j-ptiik/art...</td>\n",
       "      <td>Penjadwalan merupakan salah satu proses pentin...</td>\n",
       "    </tr>\n",
       "    <tr>\n",
       "      <th>2</th>\n",
       "      <td>Pengembangan Push Notification Menggunakan Web...</td>\n",
       "      <td>https://j-ptiik.ub.ac.id/index.php/j-ptiik/art...</td>\n",
       "      <td>Untuk memenuhi kebutuhan masyarakat akan keter...</td>\n",
       "    </tr>\n",
       "    <tr>\n",
       "      <th>3</th>\n",
       "      <td>Pembangunan Sistem Informasi Manajemen Keluhan...</td>\n",
       "      <td>https://j-ptiik.ub.ac.id/index.php/j-ptiik/art...</td>\n",
       "      <td>Perusahaan McDonald’s adalah perusahaan yang b...</td>\n",
       "    </tr>\n",
       "    <tr>\n",
       "      <th>4</th>\n",
       "      <td>Implementasi Metode Store and Forward Pada Hyp...</td>\n",
       "      <td>https://j-ptiik.ub.ac.id/index.php/j-ptiik/art...</td>\n",
       "      <td>Perkembangan internet saat ini sangat pesat. D...</td>\n",
       "    </tr>\n",
       "  </tbody>\n",
       "</table>\n",
       "</div>"
      ],
      "text/plain": [
       "                                               judul  \\\n",
       "0  Interactive Mixed Reality System Menggunakan P...   \n",
       "1  Optimasi Penjadwalan Mata Pelajaran Menggunaka...   \n",
       "2  Pengembangan Push Notification Menggunakan Web...   \n",
       "3  Pembangunan Sistem Informasi Manajemen Keluhan...   \n",
       "4  Implementasi Metode Store and Forward Pada Hyp...   \n",
       "\n",
       "                                                link  \\\n",
       "0  https://j-ptiik.ub.ac.id/index.php/j-ptiik/art...   \n",
       "1  https://j-ptiik.ub.ac.id/index.php/j-ptiik/art...   \n",
       "2  https://j-ptiik.ub.ac.id/index.php/j-ptiik/art...   \n",
       "3  https://j-ptiik.ub.ac.id/index.php/j-ptiik/art...   \n",
       "4  https://j-ptiik.ub.ac.id/index.php/j-ptiik/art...   \n",
       "\n",
       "                                            abstract  \n",
       "0  Teknologi mixed reality akan membuat interaksi...  \n",
       "1  Penjadwalan merupakan salah satu proses pentin...  \n",
       "2  Untuk memenuhi kebutuhan masyarakat akan keter...  \n",
       "3  Perusahaan McDonald’s adalah perusahaan yang b...  \n",
       "4  Perkembangan internet saat ini sangat pesat. D...  "
      ]
     },
     "execution_count": 155,
     "metadata": {},
     "output_type": "execute_result"
    }
   ],
   "source": [
    "data = person.applymap(lambda x: x.replace('\\r', ' ').replace('\\n', ' ').replace('\\t', ' ') if isinstance(x, str) else x)\n",
    "data = data.applymap(lambda x: re.sub(r'\\s+', ' ', x.strip()) if isinstance(x, str) else x)\n",
    "data = data.drop(['date', 'author'], axis=1)\n",
    "data.head()"
   ]
  },
  {
   "cell_type": "code",
   "execution_count": 156,
   "metadata": {},
   "outputs": [
    {
     "data": {
      "text/plain": [
       "'Teknologi mixed reality akan membuat interaksi antara user dan aplikasi terasa nyata. Teknologi ini adalah perpaduan antara dunia maya (virtual world) dan dunia nyata (real world), sehingga diharapkan pengguna akan dapat memahami terhadap informasi yang diberikan. Salah satu penggunaan teknologi mixed reality adalah penggunaan pepper ghost. Pepper ghost adalah salah satu teknologi yang bertujuan untuk menciptakan sebuah objek holografik yang interaktif. Disamping penggunaan teknologi mixed reality, terdapat suatu teknologi interaktif, yakni Kinect. Kinect menjadi alat kontrol utama dimana user sudah tidak menggunakan perangkat konvensional pada umumnya (keyboard, mouse, dan sebagainya). Dengan menggunakan kinect, user hanya menggunakan bahasa tubuh yang nantinya akan diterjemahkan menjadai sebuah perintah tertentu pada aplikasi.'"
      ]
     },
     "execution_count": 156,
     "metadata": {},
     "output_type": "execute_result"
    }
   ],
   "source": [
    "value = data.iloc[0, 2]\n",
    "value"
   ]
  },
  {
   "cell_type": "code",
   "execution_count": 152,
   "metadata": {},
   "outputs": [],
   "source": [
    "data.to_csv('cleaned_data.csv', index=False)"
   ]
  },
  {
   "cell_type": "code",
   "execution_count": 145,
   "metadata": {},
   "outputs": [
    {
     "name": "stdout",
     "output_type": "stream",
     "text": [
      "<class 'pandas.core.frame.DataFrame'>\n",
      "RangeIndex: 3479 entries, 0 to 3478\n",
      "Data columns (total 3 columns):\n",
      " #   Column    Non-Null Count  Dtype \n",
      "---  ------    --------------  ----- \n",
      " 0   judul     3479 non-null   object\n",
      " 1   link      3479 non-null   object\n",
      " 2   abstract  3479 non-null   object\n",
      "dtypes: object(3)\n",
      "memory usage: 81.7+ KB\n"
     ]
    }
   ],
   "source": [
    "data.info()"
   ]
  },
  {
   "cell_type": "code",
   "execution_count": 146,
   "metadata": {},
   "outputs": [
    {
     "data": {
      "text/plain": [
       "Index(['judul', 'link', 'abstract'], dtype='object')"
      ]
     },
     "execution_count": 146,
     "metadata": {},
     "output_type": "execute_result"
    }
   ],
   "source": [
    "data.columns"
   ]
  }
 ],
 "metadata": {
  "kernelspec": {
   "display_name": "Python 3",
   "language": "python",
   "name": "python3"
  },
  "language_info": {
   "codemirror_mode": {
    "name": "ipython",
    "version": 3
   },
   "file_extension": ".py",
   "mimetype": "text/x-python",
   "name": "python",
   "nbconvert_exporter": "python",
   "pygments_lexer": "ipython3",
   "version": "3.11.4"
  },
  "orig_nbformat": 4
 },
 "nbformat": 4,
 "nbformat_minor": 2
}
